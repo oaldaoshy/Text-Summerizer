{
  "cells": [
    {
      "cell_type": "markdown",
      "metadata": {
        "id": "view-in-github",
        "colab_type": "text"
      },
      "source": [
        "<a href=\"https://colab.research.google.com/github/oaldaoshy/Text-Summerizer/blob/main/text_suumarizer.ipynb\" target=\"_parent\"><img src=\"https://colab.research.google.com/assets/colab-badge.svg\" alt=\"Open In Colab\"/></a>"
      ]
    },
    {
      "cell_type": "code",
      "execution_count": null,
      "metadata": {
        "id": "mI8lx3LTDfJH"
      },
      "outputs": [],
      "source": [
        "from nltk.corpus import stopwords\n",
        "from nltk.cluster.util import cosine_distance\n",
        "import numpy as np\n",
        "import networkx as nx\n",
        "from rouge import FilesRouge\n",
        "\n"
      ]
    },
    {
      "cell_type": "code",
      "execution_count": null,
      "metadata": {
        "id": "DGpNEvivBO3N"
      },
      "outputs": [],
      "source": [
        "def read_article(file_name):\n",
        "    file = open(file_name, \"r\")\n",
        "    filedata = file.readlines()\n",
        "    article = filedata[0].split(\". \")\n",
        "    sentences = []\n",
        "\n",
        "    for sentence in article:\n",
        "        print(sentence)\n",
        "        sentences.append(sentence.replace(\"[^a-zA-Z]\", \" \").split(\" \"))\n",
        "    sentences.pop() \n",
        "    \n",
        "    return sentences\n"
      ]
    },
    {
      "cell_type": "code",
      "execution_count": null,
      "metadata": {
        "id": "1Y6dZm8AHBs3"
      },
      "outputs": [],
      "source": [
        "\n",
        "def sentence_similarity(sent1, sent2, stopwords=None):\n",
        "    if stopwords is None:\n",
        "        stopwords = []\n",
        " \n",
        "    sent1 = [w.lower() for w in sent1]\n",
        "    sent2 = [w.lower() for w in sent2]\n",
        " \n",
        "    all_words = list(set(sent1 + sent2))\n",
        " \n",
        "    vector1 = [0] * len(all_words)\n",
        "    vector2 = [0] * len(all_words)\n",
        " \n",
        "    for w in sent1:\n",
        "        if w in stopwords:\n",
        "            continue\n",
        "        vector1[all_words.index(w)] += 1\n",
        " \n",
        "    for w in sent2:\n",
        "        if w in stopwords:\n",
        "            continue\n",
        "        vector2[all_words.index(w)] += 1\n",
        " \n",
        "    return 1 - cosine_distance(vector1, vector2)\n",
        " \n"
      ]
    },
    {
      "cell_type": "code",
      "execution_count": null,
      "metadata": {
        "id": "fFbbmOFPHDel"
      },
      "outputs": [],
      "source": [
        "def build_similarity_matrix(sentences, stop_words):\n",
        "    similarity_matrix = np.zeros((len(sentences), len(sentences)))\n",
        " \n",
        "    for idx1 in range(len(sentences)):\n",
        "        for idx2 in range(len(sentences)):\n",
        "            if idx1 == idx2:\n",
        "                continue \n",
        "            similarity_matrix[idx1][idx2] = sentence_similarity(sentences[idx1], sentences[idx2], stop_words)\n",
        "\n",
        "    return similarity_matrix\n",
        "\n"
      ]
    },
    {
      "cell_type": "code",
      "execution_count": null,
      "metadata": {
        "id": "QnHM2Tu_ecBT"
      },
      "outputs": [],
      "source": [
        "def generate_summary(file_name, top_n=7):\n",
        "    stop_words = stopwords.words('english')\n",
        "    summarized_text = []\n",
        "\n",
        "    print(\"original Text:\\n\")\n",
        "    sentences =  read_article(\"/content/fb.txt\")\n",
        "\n",
        "    sentence_similarity_martix = build_similarity_matrix(sentences, stop_words)\n",
        "\n",
        "    sentence_similarity_graph = nx.from_numpy_array(sentence_similarity_martix)\n",
        "    scores = nx.pagerank(sentence_similarity_graph)\n",
        "\n",
        "    ranked_sentence = sorted(((scores[i],s) for i,s in enumerate(sentences)), reverse=True)    \n",
        "    print(\"\\nIndexes of top ranked_sentence order:\\n \\n \", ranked_sentence)    \n",
        "\n",
        "    for i in range(top_n):\n",
        "      summarized_text.append(\" \".join(ranked_sentence[i][1]))\n",
        "\n",
        "    summary = \". \".join(summarized_text)\n",
        "    return str(summary)"
      ]
    },
    {
      "cell_type": "code",
      "execution_count": null,
      "metadata": {
        "id": "_GrAoDBEesJZ"
      },
      "outputs": [],
      "source": [
        "with open('fb_pred.txt', 'w') as f:\n",
        "    s = str(generate_summary(\" \",5))\n",
        "    f.write(s)\n",
        "    f.close()"
      ]
    },
    {
      "cell_type": "code",
      "execution_count": null,
      "metadata": {
        "colab": {
          "base_uri": "https://localhost:8080/"
        },
        "id": "Ho5AG4n1T4T6",
        "outputId": "da4232cc-9708-4ace-b0cc-f3da4355c1c8"
      },
      "outputs": [
        {
          "name": "stdout",
          "output_type": "stream",
          "text": [
            "Enter name/path of reference summary file: /content/fb_ref.txt\n",
            "Enter name/path of predection summary file: /content/fb_pred.txt\n",
            "[{'rouge-1': {'r': 0.7011494252873564, 'p': 0.6559139784946236, 'f': 0.6777777727833334}, 'rouge-2': {'r': 0.5904761904761905, 'p': 0.5486725663716814, 'f': 0.5688073344562747}, 'rouge-l': {'r': 0.7011494252873564, 'p': 0.6559139784946236, 'f': 0.6777777727833334}}]\n"
          ]
        }
      ],
      "source": [
        "file1 = input(\"Enter name/path of reference summary file: \")\n",
        "file2 = input(\"Enter name/path of predection summary file: \")\n",
        "\n",
        "f1 = open(file1, 'r')\n",
        "f2 = open(file2, 'r')\n",
        "\n",
        "f1lines = f1.readlines()\n",
        "f1.close()\n",
        "f2lines = f2.readlines()\n",
        "f2.close()\n",
        "\n",
        "from rouge import Rouge \n",
        "\n",
        "rouge = Rouge()\n",
        "scores = rouge.get_scores(f1lines, f2lines)\n",
        "print(scores)"
      ]
    }
  ],
  "metadata": {
    "colab": {
      "collapsed_sections": [],
      "name": "text suumarizer.ipynb",
      "provenance": [],
      "include_colab_link": true
    },
    "kernelspec": {
      "display_name": "Python 3",
      "name": "python3"
    },
    "language_info": {
      "name": "python"
    }
  },
  "nbformat": 4,
  "nbformat_minor": 0
}